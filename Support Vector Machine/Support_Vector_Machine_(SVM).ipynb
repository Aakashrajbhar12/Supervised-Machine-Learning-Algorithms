{
 "cells": [
  {
   "cell_type": "markdown",
   "id": "b9c85e92",
   "metadata": {},
   "source": [
    "### Support Vector Machines"
   ]
  },
  {
   "cell_type": "code",
   "execution_count": 1,
   "id": "0bd9ff05",
   "metadata": {},
   "outputs": [],
   "source": [
    "# SVM Classification\n",
    "import pandas as pd\n",
    "import numpy as np\n",
    "from sklearn.feature_extraction.text import CountVectorizer, TfidfVectorizer #Used for Text Mining\n",
    "from sklearn.preprocessing import StandardScaler\n",
    "\n",
    "#library for model\n",
    "from sklearn import svm\n",
    "from sklearn.svm import SVC\n",
    "from sklearn.model_selection import GridSearchCV\n",
    "from sklearn.metrics import classification_report\n",
    "\n",
    "#Martix library\n",
    "from sklearn.metrics import accuracy_score, confusion_matrix\n",
    "from sklearn.model_selection import train_test_split, cross_val_score"
   ]
  },
  {
   "cell_type": "code",
   "execution_count": 2,
   "id": "b54b00de",
   "metadata": {},
   "outputs": [],
   "source": [
    "#loading the Dataset\n",
    "names = ['preg', 'plas', 'pres', 'skin', 'test', 'mass', 'pedi', 'age', 'class']\n",
    "Dataset = pd.read_csv(\"C:/Users/Akaash/Downloads/pima-indians-diabetes_data.csv\", names=names)\n",
    "X = Dataset.iloc[:,0:8]\n",
    "Y = Dataset.iloc[:,8]"
   ]
  },
  {
   "cell_type": "code",
   "execution_count": 3,
   "id": "8e629c21",
   "metadata": {},
   "outputs": [],
   "source": [
    "#Train - Test Split\n",
    "X_train, X_test, y_train, y_test = train_test_split(X,Y, test_size = 0.3,random_state=0)"
   ]
  },
  {
   "cell_type": "code",
   "execution_count": 4,
   "id": "a4b708a0",
   "metadata": {},
   "outputs": [
    {
     "data": {
      "text/plain": [
       "((537, 8), (537,), (231, 8), (231,))"
      ]
     },
     "execution_count": 4,
     "metadata": {},
     "output_type": "execute_result"
    }
   ],
   "source": [
    "#Getting the Shape of Train-Test Split\n",
    "X_train.shape, y_train.shape, X_test.shape, y_test.shape"
   ]
  },
  {
   "cell_type": "markdown",
   "id": "752f9c32",
   "metadata": {},
   "source": [
    "#### Grid Search CV"
   ]
  },
  {
   "cell_type": "code",
   "execution_count": 5,
   "id": "d4ae1d29",
   "metadata": {},
   "outputs": [
    {
     "data": {
      "text/plain": [
       "GridSearchCV(cv=10, estimator=SVC(),\n",
       "             param_grid=[{'C': [10, 15, 20], 'gamma': [50, 100],\n",
       "                          'kernel': ['rbf']}])"
      ]
     },
     "execution_count": 5,
     "metadata": {},
     "output_type": "execute_result"
    }
   ],
   "source": [
    "#Creating SVM instance\n",
    "clf = SVC()\n",
    "\n",
    "#Defining Grid Search Parameter\n",
    "param_grid = [{'kernel':['rbf'],'gamma':[50,100],'C':[10,15,20] }]\n",
    "\n",
    "#Creating Grid Search instance and fitting the Model\n",
    "gsv = GridSearchCV(clf,param_grid,cv=10)\n",
    "gsv.fit(X_train,y_train)"
   ]
  },
  {
   "cell_type": "code",
   "execution_count": 6,
   "id": "db0742e3",
   "metadata": {},
   "outputs": [
    {
     "data": {
      "text/plain": [
       "({'C': 10, 'gamma': 50, 'kernel': 'rbf'}, 0.6387491264849756)"
      ]
     },
     "execution_count": 6,
     "metadata": {},
     "output_type": "execute_result"
    }
   ],
   "source": [
    "#Getting Search Results From Grid Search\n",
    "gsv.best_params_ , gsv.best_score_ "
   ]
  },
  {
   "cell_type": "code",
   "execution_count": 7,
   "id": "415533cb",
   "metadata": {},
   "outputs": [
    {
     "name": "stdout",
     "output_type": "stream",
     "text": [
      "Accuracy = 67.96536796536796\n"
     ]
    },
    {
     "data": {
      "text/plain": [
       "array([[157,   0],\n",
       "       [ 74,   0]], dtype=int64)"
      ]
     },
     "execution_count": 7,
     "metadata": {},
     "output_type": "execute_result"
    }
   ],
   "source": [
    "clf = SVC(C= 10, gamma = 50)\n",
    "clf.fit(X_train , y_train)\n",
    "y_pred = clf.predict(X_test)\n",
    "acc = accuracy_score(y_test, y_pred) * 100\n",
    "print(\"Accuracy =\", acc)\n",
    "confusion_matrix(y_test, y_pred)"
   ]
  },
  {
   "cell_type": "markdown",
   "id": "8f15b95d",
   "metadata": {},
   "source": [
    "Inference: The Final Accuracy is 67.96%"
   ]
  },
  {
   "cell_type": "code",
   "execution_count": null,
   "id": "74a95b83",
   "metadata": {},
   "outputs": [],
   "source": []
  }
 ],
 "metadata": {
  "kernelspec": {
   "display_name": "Python 3",
   "language": "python",
   "name": "python3"
  },
  "language_info": {
   "codemirror_mode": {
    "name": "ipython",
    "version": 3
   },
   "file_extension": ".py",
   "mimetype": "text/x-python",
   "name": "python",
   "nbconvert_exporter": "python",
   "pygments_lexer": "ipython3",
   "version": "3.8.8"
  }
 },
 "nbformat": 4,
 "nbformat_minor": 5
}
