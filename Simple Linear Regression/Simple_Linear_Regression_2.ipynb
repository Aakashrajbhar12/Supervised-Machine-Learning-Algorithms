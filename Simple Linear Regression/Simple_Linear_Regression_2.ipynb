{
 "cells": [
  {
   "cell_type": "markdown",
   "id": "b658d432",
   "metadata": {},
   "source": [
    "### Simple Linear Regression"
   ]
  },
  {
   "cell_type": "markdown",
   "id": "e4d2f8d4",
   "metadata": {},
   "source": [
    "Problem Statement\n",
    "\n",
    "A Grounp of Researchers conducted a study with a aim of predicting Abdominal AT Area using Simple anthropometric measurements i.e measurements on the human body\n",
    "\n",
    "The Waist Circumference - Adipose Tissue data is a part of this study wherein its the aim is to how well waist Circumference (WC) predict the AT Area"
   ]
  },
  {
   "cell_type": "code",
   "execution_count": 1,
   "id": "fa8d0563",
   "metadata": {},
   "outputs": [],
   "source": [
    "#Loading the Required Libaries\n",
    "import numpy as np\n",
    "import pandas as pd\n",
    "import seaborn as sns\n",
    "\n",
    "import warnings\n",
    "warnings.filterwarnings(\"ignore\")  #--to ignore warnings"
   ]
  },
  {
   "cell_type": "code",
   "execution_count": 2,
   "id": "85bd5bff",
   "metadata": {},
   "outputs": [
    {
     "data": {
      "text/html": [
       "<div>\n",
       "<style scoped>\n",
       "    .dataframe tbody tr th:only-of-type {\n",
       "        vertical-align: middle;\n",
       "    }\n",
       "\n",
       "    .dataframe tbody tr th {\n",
       "        vertical-align: top;\n",
       "    }\n",
       "\n",
       "    .dataframe thead th {\n",
       "        text-align: right;\n",
       "    }\n",
       "</style>\n",
       "<table border=\"1\" class=\"dataframe\">\n",
       "  <thead>\n",
       "    <tr style=\"text-align: right;\">\n",
       "      <th></th>\n",
       "      <th>Waist</th>\n",
       "      <th>AT</th>\n",
       "    </tr>\n",
       "  </thead>\n",
       "  <tbody>\n",
       "    <tr>\n",
       "      <th>0</th>\n",
       "      <td>74.75</td>\n",
       "      <td>25.72</td>\n",
       "    </tr>\n",
       "    <tr>\n",
       "      <th>1</th>\n",
       "      <td>72.60</td>\n",
       "      <td>25.89</td>\n",
       "    </tr>\n",
       "    <tr>\n",
       "      <th>2</th>\n",
       "      <td>81.80</td>\n",
       "      <td>42.60</td>\n",
       "    </tr>\n",
       "    <tr>\n",
       "      <th>3</th>\n",
       "      <td>83.95</td>\n",
       "      <td>42.80</td>\n",
       "    </tr>\n",
       "    <tr>\n",
       "      <th>4</th>\n",
       "      <td>74.65</td>\n",
       "      <td>29.84</td>\n",
       "    </tr>\n",
       "  </tbody>\n",
       "</table>\n",
       "</div>"
      ],
      "text/plain": [
       "   Waist     AT\n",
       "0  74.75  25.72\n",
       "1  72.60  25.89\n",
       "2  81.80  42.60\n",
       "3  83.95  42.80\n",
       "4  74.65  29.84"
      ]
     },
     "execution_count": 2,
     "metadata": {},
     "output_type": "execute_result"
    }
   ],
   "source": [
    "#Loading the Dataset\n",
    "Dataset = pd.read_csv(\"C:/Users/Akaash/Downloads/WC_AT.csv\")\n",
    "Dataset.head()"
   ]
  },
  {
   "cell_type": "markdown",
   "id": "eb295ce7",
   "metadata": {},
   "source": [
    "--> As we need to predict AT Area in this Case So,\n",
    "\n",
    "--> Y is AT (Dependent)\n",
    "--> X is Waist  (Independent)\n",
    "\n",
    "--> AT~Waist"
   ]
  },
  {
   "cell_type": "markdown",
   "id": "cd2b6386",
   "metadata": {},
   "source": [
    "#### Correlation"
   ]
  },
  {
   "cell_type": "code",
   "execution_count": 3,
   "id": "06c30b99",
   "metadata": {},
   "outputs": [
    {
     "data": {
      "text/html": [
       "<div>\n",
       "<style scoped>\n",
       "    .dataframe tbody tr th:only-of-type {\n",
       "        vertical-align: middle;\n",
       "    }\n",
       "\n",
       "    .dataframe tbody tr th {\n",
       "        vertical-align: top;\n",
       "    }\n",
       "\n",
       "    .dataframe thead th {\n",
       "        text-align: right;\n",
       "    }\n",
       "</style>\n",
       "<table border=\"1\" class=\"dataframe\">\n",
       "  <thead>\n",
       "    <tr style=\"text-align: right;\">\n",
       "      <th></th>\n",
       "      <th>Waist</th>\n",
       "      <th>AT</th>\n",
       "    </tr>\n",
       "  </thead>\n",
       "  <tbody>\n",
       "    <tr>\n",
       "      <th>Waist</th>\n",
       "      <td>1.000000</td>\n",
       "      <td>0.818558</td>\n",
       "    </tr>\n",
       "    <tr>\n",
       "      <th>AT</th>\n",
       "      <td>0.818558</td>\n",
       "      <td>1.000000</td>\n",
       "    </tr>\n",
       "  </tbody>\n",
       "</table>\n",
       "</div>"
      ],
      "text/plain": [
       "          Waist        AT\n",
       "Waist  1.000000  0.818558\n",
       "AT     0.818558  1.000000"
      ]
     },
     "execution_count": 3,
     "metadata": {},
     "output_type": "execute_result"
    }
   ],
   "source": [
    "#Using corr()\n",
    "Dataset.corr()"
   ]
  },
  {
   "cell_type": "markdown",
   "id": "cdb540f4",
   "metadata": {},
   "source": [
    "Inference: \n",
    "\n",
    "As it can be seen Correlation between Waist and AT is 0.81 which indicates Positively Strong Relation.\n",
    "\n",
    "Also this prove Waist is required to Predict AT Area"
   ]
  },
  {
   "cell_type": "markdown",
   "id": "d7f6b31b",
   "metadata": {},
   "source": [
    "#### Plotting -- Distribution"
   ]
  },
  {
   "cell_type": "code",
   "execution_count": 4,
   "id": "dffbff51",
   "metadata": {},
   "outputs": [
    {
     "data": {
      "text/plain": [
       "<AxesSubplot:xlabel='Waist', ylabel='Density'>"
      ]
     },
     "execution_count": 4,
     "metadata": {},
     "output_type": "execute_result"
    },
    {
     "data": {
      "image/png": "[encoded data removed]",
      "text/plain": [
       "<Figure size 432x288 with 1 Axes>"
      ]
     },
     "metadata": {
      "needs_background": "light"
     },
     "output_type": "display_data"
    }
   ],
   "source": [
    "#Distribution Plot for Waist feature\n",
    "sns.distplot(Dataset.Waist)"
   ]
  },
  {
   "cell_type": "code",
   "execution_count": 5,
   "id": "5e991742",
   "metadata": {},
   "outputs": [
    {
     "data": {
      "text/plain": [
       "<AxesSubplot:xlabel='AT', ylabel='Density'>"
      ]
     },
     "execution_count": 5,
     "metadata": {},
     "output_type": "execute_result"
    },
    {
     "data": {
      "image/png": "[encoded data removed]",
      "text/plain": [
       "<Figure size 432x288 with 1 Axes>"
      ]
     },
     "metadata": {
      "needs_background": "light"
     },
     "output_type": "display_data"
    }
   ],
   "source": [
    "#Distribution Plot for AT feature\n",
    "sns.distplot(Dataset.AT)"
   ]
  },
  {
   "cell_type": "markdown",
   "id": "ed0ba108",
   "metadata": {},
   "source": [
    "Inference:\n",
    "\n",
    "Waist, AT: Distribution is not normal for both the features, it also seems to be Bimodel, and has positive skewness"
   ]
  },
  {
   "cell_type": "markdown",
   "id": "8750f2f9",
   "metadata": {},
   "source": [
    "#### Model Building --Fitting a Linear Regression model"
   ]
  },
  {
   "cell_type": "code",
   "execution_count": 6,
   "id": "76ab1237",
   "metadata": {},
   "outputs": [],
   "source": [
    "#Building the model\n",
    "import statsmodels.formula.api as smf\n",
    "model = smf.ols(\"AT~Waist\",data = Dataset).fit()"
   ]
  },
  {
   "cell_type": "code",
   "execution_count": 7,
   "id": "dfdb5fc9",
   "metadata": {},
   "outputs": [
    {
     "data": {
      "image/png": "[encoded data removed]",
      "text/plain": [
       "<Figure size 432x288 with 1 Axes>"
      ]
     },
     "metadata": {
      "needs_background": "light"
     },
     "output_type": "display_data"
    }
   ],
   "source": [
    "#Best Fit line\n",
    "sns.regplot(x=\"Waist\", y=\"AT\", data=Dataset);"
   ]
  },
  {
   "cell_type": "code",
   "execution_count": 8,
   "id": "3352da14",
   "metadata": {},
   "outputs": [
    {
     "data": {
      "text/plain": [
       "Intercept   -215.981488\n",
       "Waist          3.458859\n",
       "dtype: float64"
      ]
     },
     "execution_count": 8,
     "metadata": {},
     "output_type": "execute_result"
    }
   ],
   "source": [
    "#Coefficients\n",
    "model.params"
   ]
  },
  {
   "cell_type": "markdown",
   "id": "4acefa84",
   "metadata": {},
   "source": [
    "Inference: Intercept is B0 = -215, Waist is B1 = 3.45"
   ]
  },
  {
   "cell_type": "code",
   "execution_count": 9,
   "id": "dcd8d9c8",
   "metadata": {},
   "outputs": [
    {
     "name": "stdout",
     "output_type": "stream",
     "text": [
      "T_values is:  \n",
      " Intercept    -9.909103\n",
      "Waist        14.740376\n",
      "dtype: float64 \n",
      " P_values is:  \n",
      " Intercept    8.197416e-17\n",
      "Waist        1.618607e-27\n",
      "dtype: float64\n"
     ]
    }
   ],
   "source": [
    "#t and p-Values\n",
    "print(\"T_values is: \",\"\\n\",model.tvalues,\"\\n\",\"P_values is: \",'\\n', model.pvalues)"
   ]
  },
  {
   "cell_type": "markdown",
   "id": "7c2b3286",
   "metadata": {},
   "source": [
    "#### Hypothesis in SLR\n",
    "\n",
    "B0 = Beta0 , B1 = Beta1\n",
    "\n",
    "H0: B1 = 0, B1--> Slope is Zero Y is not Dependent\n",
    "\n",
    "H1: B1 ≠ 0, B1--> Slope is not Zero Y is Dependent"
   ]
  },
  {
   "cell_type": "code",
   "execution_count": 10,
   "id": "029ffa24",
   "metadata": {},
   "outputs": [
    {
     "name": "stdout",
     "output_type": "stream",
     "text": [
      "p_value is: 1.6186065693841093e-27 , Reject H0,Slope is not Zero and Y is Dependent\n"
     ]
    }
   ],
   "source": [
    "#Hypothesis Test of SLR model\n",
    "α = 0.05  # Standard\n",
    "\n",
    "if model.pvalues[1] < α:\n",
    "    print(\"p_value is:\",model.pvalues[1],\", Reject H0,Slope is not Zero and Y is Dependent\")\n",
    "else:\n",
    "    print(\"p_value is:\",model.pvalues[1],\", Fail to Reject H0,Slope is Zero and Y is not Dependent\")"
   ]
  },
  {
   "cell_type": "code",
   "execution_count": 11,
   "id": "85af0e27",
   "metadata": {},
   "outputs": [
    {
     "data": {
      "text/plain": [
       "(0.6700368930528429, 0.6669531256981966)"
      ]
     },
     "execution_count": 11,
     "metadata": {},
     "output_type": "execute_result"
    }
   ],
   "source": [
    "#R squared values\n",
    "(model.rsquared,model.rsquared_adj)"
   ]
  },
  {
   "cell_type": "markdown",
   "id": "a6024d28",
   "metadata": {},
   "source": [
    "Inference: R_squared is 0.67 so the model is a okay Good model"
   ]
  },
  {
   "cell_type": "markdown",
   "id": "877977f0",
   "metadata": {},
   "source": [
    "#### Predict for new data point"
   ]
  },
  {
   "cell_type": "code",
   "execution_count": 12,
   "id": "9bbcbf2d",
   "metadata": {},
   "outputs": [
    {
     "data": {
      "text/html": [
       "<div>\n",
       "<style scoped>\n",
       "    .dataframe tbody tr th:only-of-type {\n",
       "        vertical-align: middle;\n",
       "    }\n",
       "\n",
       "    .dataframe tbody tr th {\n",
       "        vertical-align: top;\n",
       "    }\n",
       "\n",
       "    .dataframe thead th {\n",
       "        text-align: right;\n",
       "    }\n",
       "</style>\n",
       "<table border=\"1\" class=\"dataframe\">\n",
       "  <thead>\n",
       "    <tr style=\"text-align: right;\">\n",
       "      <th></th>\n",
       "      <th>Waist</th>\n",
       "    </tr>\n",
       "  </thead>\n",
       "  <tbody>\n",
       "    <tr>\n",
       "      <th>0</th>\n",
       "      <td>98</td>\n",
       "    </tr>\n",
       "    <tr>\n",
       "      <th>1</th>\n",
       "      <td>85</td>\n",
       "    </tr>\n",
       "  </tbody>\n",
       "</table>\n",
       "</div>"
      ],
      "text/plain": [
       "   Waist\n",
       "0     98\n",
       "1     85"
      ]
     },
     "execution_count": 12,
     "metadata": {},
     "output_type": "execute_result"
    }
   ],
   "source": [
    "#Predict for 200 and 300 daily circulation\n",
    "newdata=pd.DataFrame(np.array([98,85]),columns = [\"Waist\"])\n",
    "newdata"
   ]
  },
  {
   "cell_type": "code",
   "execution_count": 13,
   "id": "3bc0a0f4",
   "metadata": {},
   "outputs": [
    {
     "data": {
      "text/plain": [
       "0    122.986732\n",
       "1     78.021560\n",
       "dtype: float64"
      ]
     },
     "execution_count": 13,
     "metadata": {},
     "output_type": "execute_result"
    }
   ],
   "source": [
    "#Predicting \n",
    "model.predict(newdata)"
   ]
  },
  {
   "cell_type": "markdown",
   "id": "52cd56c7",
   "metadata": {},
   "source": [
    "Inference: \n",
    "\n",
    "For 98 Waist Size, AT area will be 122\n",
    "\n",
    "For 85 Waist Size, AT area will be 78"
   ]
  },
  {
   "cell_type": "markdown",
   "id": "87efd262",
   "metadata": {},
   "source": [
    "#### Manually  Calculating and Checking the regression equation of the model"
   ]
  },
  {
   "cell_type": "code",
   "execution_count": 14,
   "id": "c51a2657",
   "metadata": {},
   "outputs": [
    {
     "data": {
      "text/plain": [
       "77.27000000000001"
      ]
     },
     "execution_count": 14,
     "metadata": {},
     "output_type": "execute_result"
    }
   ],
   "source": [
    "# Y = B0 + B1X\n",
    "\n",
    "#B0 = -215.98 - from Build model\n",
    "#B1 = 3.45  - from Build model\n",
    "#X = 85    - Datapoint to Predict\n",
    "\n",
    "Y = -215.98 +3.45*85\n",
    "Y"
   ]
  },
  {
   "cell_type": "markdown",
   "id": "735b48fd",
   "metadata": {},
   "source": [
    "Inference:\n",
    "\n",
    "Manually Also Its gives approx the Same results as the Regression equation built by the Model"
   ]
  },
  {
   "cell_type": "code",
   "execution_count": null,
   "id": "755e015d",
   "metadata": {},
   "outputs": [],
   "source": []
  }
 ],
 "metadata": {
  "kernelspec": {
   "display_name": "Python 3",
   "language": "python",
   "name": "python3"
  },
  "language_info": {
   "codemirror_mode": {
    "name": "ipython",
    "version": 3
   },
   "file_extension": ".py",
   "mimetype": "text/x-python",
   "name": "python",
   "nbconvert_exporter": "python",
   "pygments_lexer": "ipython3",
   "version": "3.8.8"
  }
 },
 "nbformat": 4,
 "nbformat_minor": 5
}
