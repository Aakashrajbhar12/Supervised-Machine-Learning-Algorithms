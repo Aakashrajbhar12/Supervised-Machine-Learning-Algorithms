{
 "cells": [
  {
   "cell_type": "markdown",
   "id": "8c7f82a7",
   "metadata": {},
   "source": [
    "### Ensembled_Technique & Random Forest"
   ]
  },
  {
   "cell_type": "markdown",
   "id": "99a5e672",
   "metadata": {},
   "source": [
    "There are 3 Ensembled Technique \n",
    "\n",
    "1.Bagging\n",
    "\n",
    "2.Boosting\n",
    "\n",
    "3.Stacking"
   ]
  },
  {
   "cell_type": "markdown",
   "id": "8186e3a6",
   "metadata": {},
   "source": [
    "#### Bagging ~ Bootstrap Aggregation\n",
    "It Create Random Sample of Datapoint(Random Train Set) with Sampling with Replacement(A Particular Datapoints can be repeated in multiple Random sample)\n",
    "\n",
    "Independent of Previous Model (Parallel in nature)\n",
    "\n",
    "prediction Average / mode is taken"
   ]
  },
  {
   "cell_type": "code",
   "execution_count": 1,
   "id": "a863713a",
   "metadata": {},
   "outputs": [],
   "source": [
    "# Bagged Decision Trees for Classification\n",
    "\n",
    "#Importing the Required Libraries\n",
    "import pandas as pd\n",
    "from sklearn.model_selection import KFold\n",
    "from sklearn.model_selection import cross_val_score\n",
    "from sklearn.ensemble import BaggingClassifier\n",
    "from sklearn.tree import DecisionTreeClassifier\n",
    "\n",
    "#loading the Dataset\n",
    "names = ['preg', 'plas', 'pres', 'skin', 'test', 'mass', 'pedi', 'age', 'class']\n",
    "Dataset = pd.read_csv('C:/Users/Akaash/Downloads/pima-indians-diabetes_data.csv', names=names)\n",
    "\n",
    "#Separating the X & Y Variables\n",
    "array = Dataset.values\n",
    "X = array[:,0:8]\n",
    "Y = array[:,8]\n",
    "\n",
    "# Creating K-Fold Instance\n",
    "seed = 7\n",
    "kfold = KFold(n_splits=10,random_state=seed,shuffle = True)\n",
    "\n",
    "#Creating the Instance of DecisionTreeClassifier()\n",
    "classifier = DecisionTreeClassifier()\n",
    "\n",
    "#Training the Model -- Bagging\n",
    "num_trees = 100\n",
    "#base_estimator= instance of the Technique used which is either DTclassifier or DTRegressor\n",
    "model = BaggingClassifier(base_estimator=classifier,n_estimators=num_trees,random_state=seed) \n",
    "\n",
    "#Predicting & Getting the Model Score with kfold\n",
    "results = cross_val_score(model, X, Y, cv=kfold)"
   ]
  },
  {
   "cell_type": "code",
   "execution_count": 2,
   "id": "6abb7d2a",
   "metadata": {},
   "outputs": [
    {
     "data": {
      "text/plain": [
       "array([0.76623377, 0.75324675, 0.74025974, 0.77922078, 0.80519481,\n",
       "       0.79220779, 0.66233766, 0.75324675, 0.78947368, 0.73684211])"
      ]
     },
     "execution_count": 2,
     "metadata": {},
     "output_type": "execute_result"
    }
   ],
   "source": [
    "# Accuracy for Each K-Fold\n",
    "results"
   ]
  },
  {
   "cell_type": "code",
   "execution_count": 3,
   "id": "4e33a8c0",
   "metadata": {},
   "outputs": [
    {
     "data": {
      "text/plain": [
       "75.78263841421736"
      ]
     },
     "execution_count": 3,
     "metadata": {},
     "output_type": "execute_result"
    }
   ],
   "source": [
    "#Average of All k-fold Accuracy to get Final model Accuary\n",
    "results.mean()*100.0"
   ]
  },
  {
   "cell_type": "markdown",
   "id": "a8e1ab8c",
   "metadata": {},
   "source": [
    "Inference: Using the Bagging Ensembled Technique the Final Accuracy is 75.78%"
   ]
  },
  {
   "cell_type": "markdown",
   "id": "cc594d3b",
   "metadata": {},
   "source": [
    "#### Random Forest\n",
    "It is Based on the Concept of Bagging where Datapoint are Randomly Sampled.\n",
    "\n",
    "It Splits Data Point as well as the features Randomly and Creates Decision Tree"
   ]
  },
  {
   "cell_type": "code",
   "execution_count": 4,
   "id": "db73c761",
   "metadata": {},
   "outputs": [],
   "source": [
    "# Random Forest Classification\n",
    "\n",
    "#Importing the Required Libraries\n",
    "import pandas as pd\n",
    "from sklearn.model_selection import KFold\n",
    "from sklearn.model_selection import cross_val_score\n",
    "from sklearn.ensemble import RandomForestClassifier\n",
    "\n",
    "#loading the Dataset\n",
    "names = ['preg', 'plas', 'pres', 'skin', 'test', 'mass', 'pedi', 'age', 'class']\n",
    "Dataset = pd.read_csv('C:/Users/Akaash/Downloads/pima-indians-diabetes_data.csv', names=names)\n",
    "\n",
    "#Separating the X & Y Variables\n",
    "array = Dataset.values\n",
    "X = array[:,0:8]\n",
    "Y = array[:,8]\n",
    "\n",
    "# Creating K-Fold Instance\n",
    "kfold = KFold(n_splits=10, random_state=7,shuffle = True)\n",
    "\n",
    "#Training the Model ~ Random Forest \n",
    "num_trees = 100\n",
    "max_features = 3 \n",
    "model = RandomForestClassifier(n_estimators=num_trees, max_features=max_features) #max_features will sample randomly 3 Features\n",
    "\n",
    "#Predicting & Getting the Model Score with kfold\n",
    "results = cross_val_score(model, X, Y, cv=kfold)"
   ]
  },
  {
   "cell_type": "code",
   "execution_count": 5,
   "id": "415f754e",
   "metadata": {},
   "outputs": [
    {
     "data": {
      "text/plain": [
       "array([0.80519481, 0.80519481, 0.72727273, 0.77922078, 0.80519481,\n",
       "       0.79220779, 0.64935065, 0.80519481, 0.77631579, 0.76315789])"
      ]
     },
     "execution_count": 5,
     "metadata": {},
     "output_type": "execute_result"
    }
   ],
   "source": [
    "# Accuracy for Each K-Fold\n",
    "results"
   ]
  },
  {
   "cell_type": "code",
   "execution_count": 6,
   "id": "9da160f7",
   "metadata": {},
   "outputs": [
    {
     "data": {
      "text/plain": [
       "77.08304853041696"
      ]
     },
     "execution_count": 6,
     "metadata": {},
     "output_type": "execute_result"
    }
   ],
   "source": [
    "#Average of All k-fold Accuracy to get Final model Accuary\n",
    "results.mean()*100.0"
   ]
  },
  {
   "cell_type": "markdown",
   "id": "f394b010",
   "metadata": {},
   "source": [
    "Inference: Using The Random Forest the Final Accuracy is 76.44%"
   ]
  },
  {
   "cell_type": "markdown",
   "id": "4ee55de8",
   "metadata": {},
   "source": [
    "#### Boosting ~ AdaBoost\n",
    "Stage Weight of That Datapoint Who give Error is updated in the next Training Set of Next model, and the Next Model Try to minimize the Error / Boost the Performance of the model\n",
    "\n",
    "It is Dependent on the Previous model i.e sequential in Nature"
   ]
  },
  {
   "cell_type": "code",
   "execution_count": 7,
   "id": "b17bcffd",
   "metadata": {},
   "outputs": [],
   "source": [
    "# AdaBoost Classification\n",
    "\n",
    "#Importing the Required Libraries\n",
    "import pandas as pd\n",
    "from sklearn.model_selection import KFold\n",
    "from sklearn.model_selection import cross_val_score\n",
    "from sklearn.ensemble import AdaBoostClassifier\n",
    "\n",
    "#loading the Dataset\n",
    "names = ['preg', 'plas', 'pres', 'skin', 'test', 'mass', 'pedi', 'age', 'class']\n",
    "Dataset = pd.read_csv('C:/Users/Akaash/Downloads/pima-indians-diabetes_data.csv', names=names)\n",
    "\n",
    "#Separating the X & Y Variables\n",
    "array = Dataset.values\n",
    "X = array[:,0:8]\n",
    "Y = array[:,8]\n",
    "\n",
    "# Creating K-Fold Instance\n",
    "seed=7\n",
    "kfold = KFold(n_splits=10, random_state=seed,shuffle = True)\n",
    "\n",
    "#Training the Model ~ Adaboost (Boosting)\n",
    "num_trees = 10\n",
    "model = AdaBoostClassifier(n_estimators=num_trees, random_state=seed)\n",
    "\n",
    "#Predicting & Getting the Model Score with kfold\n",
    "results = cross_val_score(model, X, Y, cv=kfold)\n"
   ]
  },
  {
   "cell_type": "code",
   "execution_count": 8,
   "id": "c7ebf410",
   "metadata": {},
   "outputs": [
    {
     "data": {
      "text/plain": [
       "array([0.80519481, 0.74025974, 0.67532468, 0.81818182, 0.80519481,\n",
       "       0.79220779, 0.71428571, 0.75324675, 0.78947368, 0.77631579])"
      ]
     },
     "execution_count": 8,
     "metadata": {},
     "output_type": "execute_result"
    }
   ],
   "source": [
    "# Accuracy for Each K-Fold\n",
    "results"
   ]
  },
  {
   "cell_type": "code",
   "execution_count": 9,
   "id": "107d20eb",
   "metadata": {},
   "outputs": [
    {
     "data": {
      "text/plain": [
       "76.69685577580314"
      ]
     },
     "execution_count": 9,
     "metadata": {},
     "output_type": "execute_result"
    }
   ],
   "source": [
    "#Average of All k-fold Accuracy to get Final model Accuary\n",
    "results.mean()*100.0"
   ]
  },
  {
   "cell_type": "markdown",
   "id": "6d9b9f06",
   "metadata": {},
   "source": [
    "Inference: Using the Boosting Ensembled Technique the Final Accuracy is 76.69%"
   ]
  },
  {
   "cell_type": "markdown",
   "id": "b02e4b25",
   "metadata": {},
   "source": [
    "#### Stacking\n",
    "\n",
    "Through Stacking Can Use Multiple Algorithms At Once the TAle mean/Mode of the Prediction"
   ]
  },
  {
   "cell_type": "code",
   "execution_count": 10,
   "id": "690cf82c",
   "metadata": {},
   "outputs": [],
   "source": [
    "# Stacking Ensemble for Classification\n",
    "\n",
    "#Importing the Required Libraries\n",
    "import pandas as pd\n",
    "from sklearn.model_selection import KFold\n",
    "from sklearn.model_selection import cross_val_score\n",
    "from sklearn.linear_model import LogisticRegression\n",
    "from sklearn.tree import DecisionTreeClassifier\n",
    "from sklearn.svm import SVC\n",
    "from sklearn.ensemble import VotingClassifier\n",
    "\n",
    "#loading the Dataset\n",
    "names = ['preg', 'plas', 'pres', 'skin', 'test', 'mass', 'pedi', 'age', 'class']\n",
    "Dataset = pd.read_csv('C:/Users/Akaash/Downloads/pima-indians-diabetes_data.csv', names=names)\n",
    "\n",
    "#Separating the X & Y Variables\n",
    "array = Dataset.values\n",
    "X = array[:,0:8]\n",
    "Y = array[:,8]\n",
    "\n",
    "# Creating K-Fold Instance\n",
    "seed=7\n",
    "kfold = KFold(n_splits=10, random_state=seed,shuffle = True)\n",
    "\n",
    "# create the sub models - 3 Different Models\n",
    "estimators = []\n",
    "model1 = LogisticRegression(max_iter=500)\n",
    "estimators.append(('logistic', model1))\n",
    "model2 = DecisionTreeClassifier()\n",
    "estimators.append(('cart', model2))\n",
    "model3 = SVC()\n",
    "estimators.append(('svm', model3))\n",
    "\n",
    "# create the ensemble model\n",
    "ensemble = VotingClassifier(estimators)\n",
    "\n",
    "#Predicting & Getting the Model Score with kfold\n",
    "results = cross_val_score(ensemble, X, Y, cv=kfold)\n"
   ]
  },
  {
   "cell_type": "code",
   "execution_count": 11,
   "id": "d5c295f0",
   "metadata": {},
   "outputs": [
    {
     "data": {
      "text/plain": [
       "array([0.83116883, 0.75324675, 0.74025974, 0.80519481, 0.79220779,\n",
       "       0.79220779, 0.63636364, 0.79220779, 0.81578947, 0.76315789])"
      ]
     },
     "execution_count": 11,
     "metadata": {},
     "output_type": "execute_result"
    }
   ],
   "source": [
    "# Accuracy for Each K-Fold\n",
    "results"
   ]
  },
  {
   "cell_type": "code",
   "execution_count": 12,
   "id": "ca8f0a9f",
   "metadata": {},
   "outputs": [
    {
     "data": {
      "text/plain": [
       "77.21804511278197"
      ]
     },
     "execution_count": 12,
     "metadata": {},
     "output_type": "execute_result"
    }
   ],
   "source": [
    "#Average of All k-fold Accuracy to get Final model Accuary\n",
    "results.mean()*100.0"
   ]
  },
  {
   "cell_type": "markdown",
   "id": "5c92d2a6",
   "metadata": {},
   "source": [
    "Inference: Using the Stacking Ensembled Technique the Final Accuracy is 77.21%"
   ]
  },
  {
   "cell_type": "code",
   "execution_count": null,
   "id": "bf3c24a0",
   "metadata": {},
   "outputs": [],
   "source": []
  }
 ],
 "metadata": {
  "kernelspec": {
   "display_name": "Python 3",
   "language": "python",
   "name": "python3"
  },
  "language_info": {
   "codemirror_mode": {
    "name": "ipython",
    "version": 3
   },
   "file_extension": ".py",
   "mimetype": "text/x-python",
   "name": "python",
   "nbconvert_exporter": "python",
   "pygments_lexer": "ipython3",
   "version": "3.8.8"
  }
 },
 "nbformat": 4,
 "nbformat_minor": 5
}
