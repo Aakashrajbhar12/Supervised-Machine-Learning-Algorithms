{
 "cells": [
  {
   "cell_type": "markdown",
   "id": "5d255436",
   "metadata": {},
   "source": [
    "### Ensembled_Technique & Random Forest"
   ]
  },
  {
   "cell_type": "markdown",
   "id": "b8467d21",
   "metadata": {},
   "source": [
    "There are 3 Ensembled Technique \n",
    "\n",
    "1.Bagging\n",
    "\n",
    "2.Boosting\n",
    "\n",
    "3.Stacking"
   ]
  },
  {
   "cell_type": "markdown",
   "id": "3e11feea",
   "metadata": {},
   "source": [
    "#### Bagging ~ Bootstrap Aggregation\n",
    "It Create Random Sample of Datapoint(Random Train Set) with Sampling with Replacement(A Particular Datapoints can be repeated in multiple Random sample)\n",
    "\n",
    "Independent of Previous Model (Parallel in nature)\n",
    "\n",
    "prediction Average / mode is taken"
   ]
  },
  {
   "cell_type": "code",
   "execution_count": 1,
   "id": "42b22848",
   "metadata": {},
   "outputs": [],
   "source": [
    "# Bagged Decision Trees for Classification\n",
    "\n",
    "#Importing the Required Libraries\n",
    "import pandas as pd\n",
    "from sklearn.model_selection import KFold\n",
    "from sklearn.model_selection import cross_val_score\n",
    "from sklearn.ensemble import BaggingClassifier\n",
    "from sklearn.tree import DecisionTreeClassifier\n",
    "from sklearn import preprocessing\n",
    "\n",
    "#Load the data set\n",
    "cancer = pd.read_csv(\"C:/Users/Akaash/Downloads/cancer.csv\")\n",
    "\n",
    "#Complete Cancer dataset - applying lable encoder to species column - (Y Variable is Categorial)\n",
    "label_encoder = preprocessing.LabelEncoder()\n",
    "cancer['diagnosis'] = label_encoder.fit_transform(cancer['diagnosis']) \n",
    "\n",
    "# Dividing our data into input and output variables \n",
    "X = cancer.iloc[:,1:]\n",
    "Y = cancer.iloc[:,0]\n",
    "\n",
    "# Creating K-Fold Instance\n",
    "seed = 7\n",
    "kfold = KFold(n_splits=10,random_state=seed,shuffle = True)\n",
    "\n",
    "#Creating the Instance of DecisionTreeClassifier()\n",
    "classifier = DecisionTreeClassifier()\n",
    "\n",
    "#Training the Model -- Bagging\n",
    "num_trees = 100\n",
    "#base_estimator= instance of the Technique used which is either DTclassifier or DTRegressor\n",
    "model = BaggingClassifier(base_estimator=classifier,n_estimators=num_trees,random_state=seed) \n",
    "\n",
    "#Predicting & Getting the Model Score with kfold\n",
    "results = cross_val_score(model, X, Y, cv=kfold)\n"
   ]
  },
  {
   "cell_type": "code",
   "execution_count": 2,
   "id": "12f0ce8b",
   "metadata": {},
   "outputs": [
    {
     "data": {
      "text/plain": [
       "array([0.96491228, 1.        , 0.94736842, 0.94736842, 0.96491228,\n",
       "       0.94736842, 0.96491228, 0.96491228, 0.98245614, 0.98214286])"
      ]
     },
     "execution_count": 2,
     "metadata": {},
     "output_type": "execute_result"
    }
   ],
   "source": [
    "# Accuracy for Each K-Fold\n",
    "results"
   ]
  },
  {
   "cell_type": "code",
   "execution_count": 3,
   "id": "b4743c89",
   "metadata": {},
   "outputs": [
    {
     "data": {
      "text/plain": [
       "96.66353383458647"
      ]
     },
     "execution_count": 3,
     "metadata": {},
     "output_type": "execute_result"
    }
   ],
   "source": [
    "#Average of All k-fold Accuracy to get Final model Accuary\n",
    "results.mean()*100.0"
   ]
  },
  {
   "cell_type": "markdown",
   "id": "4305d7af",
   "metadata": {},
   "source": [
    "Inference: Using the Bagging Ensembled Technique the Final Accuracy is 96.66%"
   ]
  },
  {
   "cell_type": "markdown",
   "id": "c7cbbe25",
   "metadata": {},
   "source": [
    "#### Random Forest\n",
    "It is Based on the Concept of Bagging where Datapoint are Randomly Sampled.\n",
    "\n",
    "It Splits Data Point as well as the features Randomly and Creates Decision Tree"
   ]
  },
  {
   "cell_type": "code",
   "execution_count": 4,
   "id": "84702a5d",
   "metadata": {},
   "outputs": [],
   "source": [
    "# Random Forest Classification\n",
    "\n",
    "#Importing the Required Libraries\n",
    "import pandas as pd\n",
    "from sklearn.model_selection import KFold\n",
    "from sklearn.model_selection import cross_val_score\n",
    "from sklearn.ensemble import RandomForestClassifier\n",
    "from sklearn import preprocessing\n",
    "\n",
    "#Load the data set\n",
    "cancer = pd.read_csv(\"C:/Users/Akaash/Downloads/cancer.csv\")\n",
    "\n",
    "#Complete Cancer dataset - applying lable encoder to species column - (Y Variable is Categorial)\n",
    "label_encoder = preprocessing.LabelEncoder()\n",
    "cancer['diagnosis'] = label_encoder.fit_transform(cancer['diagnosis']) \n",
    "\n",
    "# Dividing our data into input and output variables \n",
    "X = cancer.iloc[:,1:]\n",
    "Y = cancer.iloc[:,0]\n",
    "\n",
    "# Creating K-Fold Instance\n",
    "kfold = KFold(n_splits=10, random_state=7,shuffle = True)\n",
    "\n",
    "#Training the Model ~ Random Forest \n",
    "num_trees = 100\n",
    "max_features = 3 \n",
    "model = RandomForestClassifier(n_estimators=num_trees, max_features=max_features) #max_features will sample randomly 3 Features\n",
    "\n",
    "#Predicting & Getting the Model Score with kfold\n",
    "results = cross_val_score(model, X, Y, cv=kfold)"
   ]
  },
  {
   "cell_type": "code",
   "execution_count": 5,
   "id": "74c0b8cd",
   "metadata": {},
   "outputs": [
    {
     "data": {
      "text/plain": [
       "array([0.94736842, 0.98245614, 0.96491228, 0.96491228, 0.94736842,\n",
       "       0.92982456, 0.98245614, 0.94736842, 0.98245614, 0.96428571])"
      ]
     },
     "execution_count": 5,
     "metadata": {},
     "output_type": "execute_result"
    }
   ],
   "source": [
    "# Accuracy for Each K-Fold\n",
    "results"
   ]
  },
  {
   "cell_type": "code",
   "execution_count": 6,
   "id": "90bc9913",
   "metadata": {},
   "outputs": [
    {
     "data": {
      "text/plain": [
       "96.13408521303256"
      ]
     },
     "execution_count": 6,
     "metadata": {},
     "output_type": "execute_result"
    }
   ],
   "source": [
    "#Average of All k-fold Accuracy to get Final model Accuary\n",
    "results.mean()*100.0"
   ]
  },
  {
   "cell_type": "markdown",
   "id": "884391bf",
   "metadata": {},
   "source": [
    "Inference: Using The Random Forest the Final Accuracy is 96.13%"
   ]
  },
  {
   "cell_type": "markdown",
   "id": "9603d254",
   "metadata": {},
   "source": [
    "#### Boosting ~ AdaBoost\n",
    "Stage Weight of That Datapoint Who give Error is updated in the next Training Set of Next model, and the Next Model Try to minimize the Error / Boost the Performance of the model\n",
    "\n",
    "It is Dependent on the Previous model i.e sequential in Nature"
   ]
  },
  {
   "cell_type": "code",
   "execution_count": 7,
   "id": "bb5ec443",
   "metadata": {},
   "outputs": [],
   "source": [
    "# AdaBoost Classification\n",
    "\n",
    "#Importing the Required Libraries\n",
    "import pandas as pd\n",
    "from sklearn.model_selection import KFold\n",
    "from sklearn.model_selection import cross_val_score\n",
    "from sklearn.ensemble import AdaBoostClassifier\n",
    "from sklearn import preprocessing\n",
    "\n",
    "#Load the data set\n",
    "cancer = pd.read_csv(\"C:/Users/Akaash/Downloads/cancer.csv\")\n",
    "\n",
    "#Complete Cancer dataset - applying lable encoder to species column - (Y Variable is Categorial)\n",
    "label_encoder = preprocessing.LabelEncoder()\n",
    "cancer['diagnosis'] = label_encoder.fit_transform(cancer['diagnosis']) \n",
    "\n",
    "# Dividing our data into input and output variables \n",
    "X = cancer.iloc[:,1:]\n",
    "Y = cancer.iloc[:,0]\n",
    "\n",
    "# Creating K-Fold Instance\n",
    "seed=7\n",
    "kfold = KFold(n_splits=10, random_state=seed,shuffle = True)\n",
    "\n",
    "#Training the Model ~ Adaboost (Boosting)\n",
    "num_trees = 12\n",
    "model = AdaBoostClassifier(n_estimators=num_trees, random_state=seed)\n",
    "\n",
    "#Predicting & Getting the Model Score with kfold\n",
    "results = cross_val_score(model, X, Y, cv=kfold)\n"
   ]
  },
  {
   "cell_type": "code",
   "execution_count": 8,
   "id": "ee867319",
   "metadata": {},
   "outputs": [
    {
     "data": {
      "text/plain": [
       "array([0.96491228, 0.98245614, 0.96491228, 0.96491228, 0.92982456,\n",
       "       0.92982456, 0.9122807 , 0.92982456, 0.96491228, 0.96428571])"
      ]
     },
     "execution_count": 8,
     "metadata": {},
     "output_type": "execute_result"
    }
   ],
   "source": [
    "# Accuracy for Each K-Fold\n",
    "results"
   ]
  },
  {
   "cell_type": "code",
   "execution_count": 9,
   "id": "d4036aa0",
   "metadata": {},
   "outputs": [
    {
     "data": {
      "text/plain": [
       "95.08145363408522"
      ]
     },
     "execution_count": 9,
     "metadata": {},
     "output_type": "execute_result"
    }
   ],
   "source": [
    "#Average of All k-fold Accuracy to get Final model Accuary\n",
    "results.mean()*100.0"
   ]
  },
  {
   "cell_type": "markdown",
   "id": "3cede77f",
   "metadata": {},
   "source": [
    "Inference: Using the Boosting Ensembled Technique the Final Accuracy is 95.08%"
   ]
  },
  {
   "cell_type": "markdown",
   "id": "5e59e80b",
   "metadata": {},
   "source": [
    "#### Stacking\n",
    "\n",
    "Through Stacking Can Use Multiple Algorithms At Once the TAle mean/Mode of the Prediction"
   ]
  },
  {
   "cell_type": "code",
   "execution_count": 10,
   "id": "c833451f",
   "metadata": {},
   "outputs": [],
   "source": [
    "# Stacking Ensemble for Classification\n",
    "\n",
    "#Importing the Required Libraries\n",
    "import pandas as pd\n",
    "from sklearn.model_selection import KFold\n",
    "from sklearn.model_selection import cross_val_score\n",
    "from sklearn.linear_model import LogisticRegression\n",
    "from sklearn.tree import DecisionTreeClassifier\n",
    "from sklearn.svm import SVC\n",
    "from sklearn.ensemble import VotingClassifier\n",
    "from sklearn import preprocessing\n",
    "\n",
    "import warnings\n",
    "warnings.filterwarnings(\"ignore\")  #--to ignore warnings\n",
    "\n",
    "#Load the data set\n",
    "cancer = pd.read_csv(\"C:/Users/Akaash/Downloads/cancer.csv\")\n",
    "\n",
    "#Complete Cancer dataset - applying lable encoder to species column - (Y Variable is Categorial)\n",
    "label_encoder = preprocessing.LabelEncoder()\n",
    "cancer['diagnosis'] = label_encoder.fit_transform(cancer['diagnosis']) \n",
    "\n",
    "# Dividing our data into input and output variables \n",
    "X = cancer.iloc[:,1:]\n",
    "Y = cancer.iloc[:,0]\n",
    "\n",
    "# Creating K-Fold Instance\n",
    "seed=7\n",
    "kfold = KFold(n_splits=10, random_state=seed,shuffle = True)\n",
    "\n",
    "# create the sub models - 3 Different Models\n",
    "estimators = []\n",
    "model1 = LogisticRegression(max_iter=500)\n",
    "estimators.append(('logistic', model1))\n",
    "model2 = DecisionTreeClassifier()\n",
    "estimators.append(('cart', model2))\n",
    "model3 = SVC()\n",
    "estimators.append(('svm', model3))\n",
    "\n",
    "# create the ensemble model\n",
    "ensemble = VotingClassifier(estimators)\n",
    "\n",
    "#Predicting & Getting the Model Score with kfold\n",
    "results = cross_val_score(ensemble, X, Y, cv=kfold)\n"
   ]
  },
  {
   "cell_type": "code",
   "execution_count": 11,
   "id": "74d3c8ed",
   "metadata": {},
   "outputs": [
    {
     "data": {
      "text/plain": [
       "array([0.9122807 , 0.98245614, 0.98245614, 0.98245614, 0.94736842,\n",
       "       0.9122807 , 0.98245614, 0.94736842, 0.94736842, 0.96428571])"
      ]
     },
     "execution_count": 11,
     "metadata": {},
     "output_type": "execute_result"
    }
   ],
   "source": [
    "# Accuracy for Each K-Fold\n",
    "results"
   ]
  },
  {
   "cell_type": "code",
   "execution_count": 12,
   "id": "fcb8844c",
   "metadata": {},
   "outputs": [
    {
     "data": {
      "text/plain": [
       "95.60776942355889"
      ]
     },
     "execution_count": 12,
     "metadata": {},
     "output_type": "execute_result"
    }
   ],
   "source": [
    "#Average of All k-fold Accuracy to get Final model Accuary\n",
    "results.mean()*100.0"
   ]
  },
  {
   "cell_type": "markdown",
   "id": "5eaf4223",
   "metadata": {},
   "source": [
    "Inference: Using the Stacking Ensembled Technique the Final Accuracy is 95.60%"
   ]
  },
  {
   "cell_type": "code",
   "execution_count": null,
   "id": "9779f832",
   "metadata": {},
   "outputs": [],
   "source": []
  }
 ],
 "metadata": {
  "kernelspec": {
   "display_name": "Python 3",
   "language": "python",
   "name": "python3"
  },
  "language_info": {
   "codemirror_mode": {
    "name": "ipython",
    "version": 3
   },
   "file_extension": ".py",
   "mimetype": "text/x-python",
   "name": "python",
   "nbconvert_exporter": "python",
   "pygments_lexer": "ipython3",
   "version": "3.8.8"
  }
 },
 "nbformat": 4,
 "nbformat_minor": 5
}
