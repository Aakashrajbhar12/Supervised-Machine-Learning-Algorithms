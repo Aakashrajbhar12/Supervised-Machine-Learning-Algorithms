{
 "cells": [
  {
   "cell_type": "markdown",
   "id": "55a0098c",
   "metadata": {},
   "source": [
    "### Logistic Regression"
   ]
  },
  {
   "cell_type": "markdown",
   "id": "53ea6709",
   "metadata": {},
   "source": [
    "Problem Statement: Classify using Logistic Regression\n",
    "\n",
    "Dataset --> GasolineConsumption.csv\n",
    "\n",
    "Class: Limit = 0 = P, Exceed = 1 = N"
   ]
  },
  {
   "cell_type": "code",
   "execution_count": 1,
   "id": "23bb01eb",
   "metadata": {},
   "outputs": [],
   "source": [
    "#Loading the Required Library\n",
    "import pandas as pd\n",
    "from sklearn.model_selection import train_test_split\n",
    "from sklearn.linear_model import LogisticRegression"
   ]
  },
  {
   "cell_type": "code",
   "execution_count": 2,
   "id": "ce246113",
   "metadata": {},
   "outputs": [
    {
     "data": {
      "text/html": [
       "<div>\n",
       "<style scoped>\n",
       "    .dataframe tbody tr th:only-of-type {\n",
       "        vertical-align: middle;\n",
       "    }\n",
       "\n",
       "    .dataframe tbody tr th {\n",
       "        vertical-align: top;\n",
       "    }\n",
       "\n",
       "    .dataframe thead th {\n",
       "        text-align: right;\n",
       "    }\n",
       "</style>\n",
       "<table border=\"1\" class=\"dataframe\">\n",
       "  <thead>\n",
       "    <tr style=\"text-align: right;\">\n",
       "      <th></th>\n",
       "      <th>Y</th>\n",
       "      <th>X1</th>\n",
       "      <th>X2</th>\n",
       "      <th>X3</th>\n",
       "      <th>X4</th>\n",
       "      <th>X5</th>\n",
       "      <th>X6</th>\n",
       "      <th>X7</th>\n",
       "      <th>X8</th>\n",
       "      <th>X9</th>\n",
       "      <th>X10</th>\n",
       "      <th>X11</th>\n",
       "    </tr>\n",
       "  </thead>\n",
       "  <tbody>\n",
       "    <tr>\n",
       "      <th>0</th>\n",
       "      <td>18.9</td>\n",
       "      <td>350.0</td>\n",
       "      <td>165</td>\n",
       "      <td>260</td>\n",
       "      <td>8.00</td>\n",
       "      <td>2.56</td>\n",
       "      <td>4</td>\n",
       "      <td>3</td>\n",
       "      <td>200.3</td>\n",
       "      <td>69.9</td>\n",
       "      <td>3910</td>\n",
       "      <td>1</td>\n",
       "    </tr>\n",
       "    <tr>\n",
       "      <th>1</th>\n",
       "      <td>17.0</td>\n",
       "      <td>350.0</td>\n",
       "      <td>170</td>\n",
       "      <td>275</td>\n",
       "      <td>8.50</td>\n",
       "      <td>2.56</td>\n",
       "      <td>4</td>\n",
       "      <td>3</td>\n",
       "      <td>199.6</td>\n",
       "      <td>72.9</td>\n",
       "      <td>3860</td>\n",
       "      <td>1</td>\n",
       "    </tr>\n",
       "    <tr>\n",
       "      <th>2</th>\n",
       "      <td>20.0</td>\n",
       "      <td>250.0</td>\n",
       "      <td>105</td>\n",
       "      <td>185</td>\n",
       "      <td>8.25</td>\n",
       "      <td>2.73</td>\n",
       "      <td>1</td>\n",
       "      <td>3</td>\n",
       "      <td>196.7</td>\n",
       "      <td>72.2</td>\n",
       "      <td>3510</td>\n",
       "      <td>1</td>\n",
       "    </tr>\n",
       "    <tr>\n",
       "      <th>3</th>\n",
       "      <td>18.3</td>\n",
       "      <td>351.0</td>\n",
       "      <td>143</td>\n",
       "      <td>255</td>\n",
       "      <td>8.00</td>\n",
       "      <td>3.00</td>\n",
       "      <td>2</td>\n",
       "      <td>3</td>\n",
       "      <td>199.9</td>\n",
       "      <td>74.0</td>\n",
       "      <td>3890</td>\n",
       "      <td>1</td>\n",
       "    </tr>\n",
       "    <tr>\n",
       "      <th>4</th>\n",
       "      <td>20.1</td>\n",
       "      <td>225.0</td>\n",
       "      <td>95</td>\n",
       "      <td>170</td>\n",
       "      <td>8.40</td>\n",
       "      <td>2.76</td>\n",
       "      <td>1</td>\n",
       "      <td>3</td>\n",
       "      <td>194.1</td>\n",
       "      <td>71.8</td>\n",
       "      <td>3365</td>\n",
       "      <td>0</td>\n",
       "    </tr>\n",
       "  </tbody>\n",
       "</table>\n",
       "</div>"
      ],
      "text/plain": [
       "      Y     X1   X2   X3    X4    X5  X6  X7     X8    X9   X10  X11\n",
       "0  18.9  350.0  165  260  8.00  2.56   4   3  200.3  69.9  3910    1\n",
       "1  17.0  350.0  170  275  8.50  2.56   4   3  199.6  72.9  3860    1\n",
       "2  20.0  250.0  105  185  8.25  2.73   1   3  196.7  72.2  3510    1\n",
       "3  18.3  351.0  143  255  8.00  3.00   2   3  199.9  74.0  3890    1\n",
       "4  20.1  225.0   95  170  8.40  2.76   1   3  194.1  71.8  3365    0"
      ]
     },
     "execution_count": 2,
     "metadata": {},
     "output_type": "execute_result"
    }
   ],
   "source": [
    "#Load the data set\n",
    "gas = pd.read_csv(\"C:/Users/Akaash/Downloads/GasolineConsumption.csv\")\n",
    "gas.head()"
   ]
  },
  {
   "cell_type": "code",
   "execution_count": 3,
   "id": "bdffee27",
   "metadata": {},
   "outputs": [
    {
     "name": "stdout",
     "output_type": "stream",
     "text": [
      "<class 'pandas.core.frame.DataFrame'>\n",
      "RangeIndex: 30 entries, 0 to 29\n",
      "Data columns (total 12 columns):\n",
      " #   Column  Non-Null Count  Dtype  \n",
      "---  ------  --------------  -----  \n",
      " 0   Y       30 non-null     float64\n",
      " 1   X1      30 non-null     float64\n",
      " 2   X2      30 non-null     int64  \n",
      " 3   X3      30 non-null     int64  \n",
      " 4   X4      30 non-null     float64\n",
      " 5   X5      30 non-null     float64\n",
      " 6   X6      30 non-null     int64  \n",
      " 7   X7      30 non-null     int64  \n",
      " 8   X8      30 non-null     float64\n",
      " 9   X9      30 non-null     float64\n",
      " 10  X10     30 non-null     int64  \n",
      " 11  X11     30 non-null     int64  \n",
      "dtypes: float64(6), int64(6)\n",
      "memory usage: 2.9 KB\n"
     ]
    }
   ],
   "source": [
    "#Cheching the Shape & NA Value\n",
    "gas.info()"
   ]
  },
  {
   "cell_type": "markdown",
   "id": "0a3c5365",
   "metadata": {},
   "source": [
    "Inference: No NA Values Present"
   ]
  },
  {
   "cell_type": "markdown",
   "id": "cbb84869",
   "metadata": {},
   "source": [
    "#### Building Logistic Regression Model"
   ]
  },
  {
   "cell_type": "code",
   "execution_count": 4,
   "id": "3860b562",
   "metadata": {},
   "outputs": [],
   "source": [
    "# Dividing our data into input and output variables \n",
    "X = gas.iloc[:,0:11]\n",
    "Y = gas.iloc[:,11]"
   ]
  },
  {
   "cell_type": "code",
   "execution_count": 5,
   "id": "f5aae4cf",
   "metadata": {},
   "outputs": [],
   "source": [
    "# Splitting data into training and testing data set\n",
    "X_train,X_test,Y_train,Y_test = train_test_split(X,Y, test_size=0.2,random_state=40)"
   ]
  },
  {
   "cell_type": "markdown",
   "id": "183a5f57",
   "metadata": {},
   "source": [
    "Inference: Made a Train-Test Split of 80% - 20%"
   ]
  },
  {
   "cell_type": "code",
   "execution_count": 6,
   "id": "ee35eec5",
   "metadata": {},
   "outputs": [
    {
     "data": {
      "text/plain": [
       "LogisticRegression()"
      ]
     },
     "execution_count": 6,
     "metadata": {},
     "output_type": "execute_result"
    }
   ],
   "source": [
    "#Logistic regression and fit the model\n",
    "classifier = LogisticRegression()\n",
    "classifier.fit(X_train,Y_train)"
   ]
  },
  {
   "cell_type": "code",
   "execution_count": 7,
   "id": "a70d0884",
   "metadata": {},
   "outputs": [
    {
     "data": {
      "text/plain": [
       "1    5\n",
       "0    1\n",
       "dtype: int64"
      ]
     },
     "execution_count": 7,
     "metadata": {},
     "output_type": "execute_result"
    }
   ],
   "source": [
    "#Predict for X dataset\n",
    "y_pred = classifier.predict(X_test)\n",
    "pd.DataFrame(y_pred).value_counts() # getting the count of each category "
   ]
  },
  {
   "cell_type": "markdown",
   "id": "8509286a",
   "metadata": {},
   "source": [
    "Inference: These are the class for Y Variable (Y_hat)/(Predicted Values)"
   ]
  },
  {
   "cell_type": "code",
   "execution_count": 8,
   "id": "2da42e34",
   "metadata": {},
   "outputs": [
    {
     "data": {
      "text/plain": [
       "array([[4.93167569e-01, 5.06832431e-01],\n",
       "       [0.00000000e+00, 1.00000000e+00],\n",
       "       [1.79012360e-11, 1.00000000e+00],\n",
       "       [9.99999998e-01, 2.31313827e-09],\n",
       "       [2.51483595e-05, 9.99974852e-01],\n",
       "       [3.32224131e-04, 9.99667776e-01]])"
      ]
     },
     "execution_count": 8,
     "metadata": {},
     "output_type": "execute_result"
    }
   ],
   "source": [
    "#Probability\n",
    "y_pred_prob = classifier.predict_proba(X_test)\n",
    "y_pred_prob"
   ]
  },
  {
   "cell_type": "markdown",
   "id": "e216715a",
   "metadata": {},
   "source": [
    "Inference: These are the Probability of Y Variable (Y_hat)/(Predicted Values)"
   ]
  },
  {
   "cell_type": "code",
   "execution_count": 9,
   "id": "c4bf672a",
   "metadata": {},
   "outputs": [
    {
     "data": {
      "text/html": [
       "<div>\n",
       "<style scoped>\n",
       "    .dataframe tbody tr th:only-of-type {\n",
       "        vertical-align: middle;\n",
       "    }\n",
       "\n",
       "    .dataframe tbody tr th {\n",
       "        vertical-align: top;\n",
       "    }\n",
       "\n",
       "    .dataframe thead th {\n",
       "        text-align: right;\n",
       "    }\n",
       "</style>\n",
       "<table border=\"1\" class=\"dataframe\">\n",
       "  <thead>\n",
       "    <tr style=\"text-align: right;\">\n",
       "      <th></th>\n",
       "      <th>actual</th>\n",
       "      <th>predicted_prob</th>\n",
       "    </tr>\n",
       "  </thead>\n",
       "  <tbody>\n",
       "    <tr>\n",
       "      <th>2</th>\n",
       "      <td>1</td>\n",
       "      <td>1</td>\n",
       "    </tr>\n",
       "    <tr>\n",
       "      <th>16</th>\n",
       "      <td>1</td>\n",
       "      <td>1</td>\n",
       "    </tr>\n",
       "    <tr>\n",
       "      <th>19</th>\n",
       "      <td>1</td>\n",
       "      <td>1</td>\n",
       "    </tr>\n",
       "    <tr>\n",
       "      <th>14</th>\n",
       "      <td>0</td>\n",
       "      <td>0</td>\n",
       "    </tr>\n",
       "    <tr>\n",
       "      <th>15</th>\n",
       "      <td>1</td>\n",
       "      <td>1</td>\n",
       "    </tr>\n",
       "    <tr>\n",
       "      <th>13</th>\n",
       "      <td>1</td>\n",
       "      <td>1</td>\n",
       "    </tr>\n",
       "  </tbody>\n",
       "</table>\n",
       "</div>"
      ],
      "text/plain": [
       "    actual  predicted_prob\n",
       "2        1               1\n",
       "16       1               1\n",
       "19       1               1\n",
       "14       0               0\n",
       "15       1               1\n",
       "13       1               1"
      ]
     },
     "execution_count": 9,
     "metadata": {},
     "output_type": "execute_result"
    }
   ],
   "source": [
    "#Creating Dataframe of Actual and Predicted values for Y, (Y,Y_hat)\n",
    "y_pred_df= pd.DataFrame({'actual': Y_test,'predicted_prob': classifier.predict(X_test)})\n",
    "y_pred_df"
   ]
  },
  {
   "cell_type": "markdown",
   "id": "b5dfee3b",
   "metadata": {},
   "source": [
    "Inference: This Give the Actual & Predicted values side by side"
   ]
  },
  {
   "cell_type": "code",
   "execution_count": 10,
   "id": "a2f5fdcb",
   "metadata": {},
   "outputs": [
    {
     "name": "stdout",
     "output_type": "stream",
     "text": [
      "[[1 0]\n",
      " [0 5]]\n"
     ]
    }
   ],
   "source": [
    "# Confusion Matrix for the model accuracy\n",
    "from sklearn.metrics import confusion_matrix\n",
    "confusion_matrix = confusion_matrix(Y_test,y_pred)\n",
    "print (confusion_matrix)"
   ]
  },
  {
   "cell_type": "markdown",
   "id": "82775f00",
   "metadata": {},
   "source": [
    "Inference: The Diagonal value(8,22) are the Correctly Predicted Values i.e TP, TN"
   ]
  },
  {
   "cell_type": "code",
   "execution_count": 11,
   "id": "1aec9740",
   "metadata": {},
   "outputs": [
    {
     "data": {
      "text/plain": [
       "100.0"
      ]
     },
     "execution_count": 11,
     "metadata": {},
     "output_type": "execute_result"
    }
   ],
   "source": [
    "#Calculating Accuracy \n",
    "#TP+TN / TP + FP + FN + TN\n",
    "((1+5) / (1+0+0+5))*100"
   ]
  },
  {
   "cell_type": "markdown",
   "id": "72e2f9c5",
   "metadata": {},
   "source": [
    "Inference: The Final Accuracy of the Model is 100"
   ]
  },
  {
   "cell_type": "code",
   "execution_count": 12,
   "id": "b6399c30",
   "metadata": {},
   "outputs": [
    {
     "name": "stdout",
     "output_type": "stream",
     "text": [
      "              precision    recall  f1-score   support\n",
      "\n",
      "           0       1.00      1.00      1.00         1\n",
      "           1       1.00      1.00      1.00         5\n",
      "\n",
      "    accuracy                           1.00         6\n",
      "   macro avg       1.00      1.00      1.00         6\n",
      "weighted avg       1.00      1.00      1.00         6\n",
      "\n"
     ]
    }
   ],
   "source": [
    "#Classification report\n",
    "from sklearn.metrics import classification_report\n",
    "print(classification_report(Y_test,y_pred))"
   ]
  },
  {
   "cell_type": "markdown",
   "id": "4571bcb7",
   "metadata": {},
   "source": [
    "#### ROC Curve"
   ]
  },
  {
   "cell_type": "code",
   "execution_count": 13,
   "id": "7133499d",
   "metadata": {},
   "outputs": [
    {
     "data": {
      "image/png": "[encoded data removed]",
      "text/plain": [
       "<Figure size 432x288 with 1 Axes>"
      ]
     },
     "metadata": {
      "needs_background": "light"
     },
     "output_type": "display_data"
    }
   ],
   "source": [
    "from sklearn.metrics import roc_curve\n",
    "from sklearn.metrics import roc_auc_score\n",
    "\n",
    "fpr, tpr, thresholds = roc_curve(Y_test, classifier.predict_proba (X_test)[:,1])\n",
    "\n",
    "auc = roc_auc_score(Y_test, y_pred)\n",
    "\n",
    "import matplotlib.pyplot as plt\n",
    "plt.plot(fpr, tpr, color='red', label='logit model ( area  = %0.2f)'%auc)\n",
    "plt.plot([0, 1], [0, 1], 'k--')\n",
    "plt.xlabel('False Positive Rate or [1 - True Negative Rate]')\n",
    "plt.ylabel('True Positive Rate')\n",
    "plt.show()"
   ]
  },
  {
   "cell_type": "code",
   "execution_count": 14,
   "id": "40144759",
   "metadata": {},
   "outputs": [
    {
     "data": {
      "text/plain": [
       "1.0"
      ]
     },
     "execution_count": 14,
     "metadata": {},
     "output_type": "execute_result"
    }
   ],
   "source": [
    "#Area Under the Curve\n",
    "auc"
   ]
  },
  {
   "cell_type": "markdown",
   "id": "9461f6ae",
   "metadata": {},
   "source": [
    "Inference: The Area Under the Curve For this Problem is 1.0"
   ]
  },
  {
   "cell_type": "code",
   "execution_count": null,
   "id": "5a629607",
   "metadata": {},
   "outputs": [],
   "source": []
  }
 ],
 "metadata": {
  "kernelspec": {
   "display_name": "Python 3",
   "language": "python",
   "name": "python3"
  },
  "language_info": {
   "codemirror_mode": {
    "name": "ipython",
    "version": 3
   },
   "file_extension": ".py",
   "mimetype": "text/x-python",
   "name": "python",
   "nbconvert_exporter": "python",
   "pygments_lexer": "ipython3",
   "version": "3.8.8"
  }
 },
 "nbformat": 4,
 "nbformat_minor": 5
}
